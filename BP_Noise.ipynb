{
 "cells": [
  {
   "cell_type": "markdown",
   "metadata": {},
   "source": [
    "# Backpropagation in Multilayer Perceptron with Numpy\n",
    "\n",
    "This notebook is based on the Deep Learning course from the Master Datascience Paris Saclay. Materials of the course can be found [here](https://github.com/m2dsupsdlclass/lectures-labs). \n",
    "\n",
    "### Goal of the notebook:\n",
    "   * Implement a real gradient descent and a multilayer perceptron using `Numpy`.\n",
    "   \n",
    "### Dataset used:\n",
    "   * The MNIST dataset ([Kaggle link](https://www.kaggle.com/c/digit-recognizer/overview))."
   ]
  },
  {
   "cell_type": "code",
   "execution_count": 2,
   "metadata": {
    "_cell_guid": "b1076dfc-b9ad-4769-8c92-a6c4dae69d19",
    "_uuid": "8f2839f25d086af736a60e9eeb907d3b93b6e0e5"
   },
   "outputs": [],
   "source": [
    "# Display figure in the notebook\n",
    "%matplotlib inline"
   ]
  },
  {
   "cell_type": "code",
   "execution_count": 3,
   "metadata": {
    "_cell_guid": "79c7e3d0-c299-4dcb-8224-4455121ee9b0",
    "_uuid": "d629ff2d2480ee46fbb7e2d37f6b5fab8052498a"
   },
   "outputs": [
    {
     "name": "stderr",
     "output_type": "stream",
     "text": [
      "2024-08-20 20:40:40.993288: I tensorflow/core/platform/cpu_feature_guard.cc:210] This TensorFlow binary is optimized to use available CPU instructions in performance-critical operations.\n",
      "To enable the following instructions: AVX2 FMA, in other operations, rebuild TensorFlow with the appropriate compiler flags.\n"
     ]
    }
   ],
   "source": [
    "# Load packages\n",
    "import random\n",
    "\n",
    "# from tensorflow import keras\n",
    "import matplotlib.pyplot as plt\n",
    "import numpy as np\n",
    "import pandas as pd\n",
    "\n",
    "from sklearn import preprocessing\n",
    "from sklearn.model_selection import train_test_split\n",
    "\n",
    "from keras import initializers, optimizers\n",
    "from keras.layers import Dense, Activation\n",
    "from keras.models import Sequential\n",
    "from keras.utils import to_categorical"
   ]
  },
  {
   "cell_type": "code",
   "execution_count": 4,
   "metadata": {},
   "outputs": [],
   "source": [
    "# Define some functions\n",
    "def plot_mnist(data, index, label=None):\n",
    "    \"\"\"Plot one image from the mnist dataset.\"\"\"\n",
    "    fig = plt.figure(figsize=(3, 3))\n",
    "    if type(data) == pd.DataFrame:\n",
    "        plt.imshow(np.asarray(data.iloc[index, 1:]).reshape((HEIGHT, WIDTH)),\n",
    "                   cmap=plt.cm.gray_r,\n",
    "                   interpolation='nearest')\n",
    "        plt.title(f\"Image label: {data.loc[index, 'label']}\")\n",
    "    else:\n",
    "        plt.imshow(data[index].reshape((HEIGHT, WIDTH)),\n",
    "                   cmap=plt.cm.gray_r,\n",
    "                   interpolation='nearest')\n",
    "        plt.title(f\"Image label: {label}\")\n",
    "    \n",
    "    plt.axis('off')\n",
    "    return fig\n",
    "\n",
    "def plot_prediction(X, y, model, sample_idx=0, classes=range(10), model_from=None):\n",
    "    \"\"\"Plot the prediction for a given image.\"\"\"\n",
    "    fig, (ax0, ax1) = plt.subplots(nrows=1, ncols=2, figsize=(10, 4))\n",
    "\n",
    "\n",
    "    # Reshape the input data to 2D array for inverse_transform\n",
    "    X_sample = X[sample_idx].reshape(1, -1)\n",
    "    # Plot the image\n",
    "    X_inverse_transformed = scaler.inverse_transform(X_sample)\n",
    "    ax0.imshow(X_inverse_transformed.reshape(HEIGHT, WIDTH), \n",
    "               cmap=plt.cm.gray_r,\n",
    "               interpolation='nearest')\n",
    "    # # Plot the image\n",
    "    # ax0.imshow(scaler.inverse_transform(X[sample_idx]).reshape(HEIGHT, WIDTH), \n",
    "    #            cmap=plt.cm.gray_r,\n",
    "    #            interpolation='nearest')\n",
    "    ax0.axis('off')\n",
    "    ax0.set_title(f\"True image label: {y[sample_idx]}\");\n",
    "\n",
    "    # Plot the predictions\n",
    "    ax1.bar(classes, one_hot(len(classes), y[sample_idx]), label='true')\n",
    "    if model_from == 'keras':\n",
    "        ax1.bar(classes, model.predict_proba(X[sample_idx, np.newaxis]).squeeze(), \n",
    "            label='prediction', color=\"red\")\n",
    "        prediction = model.predict_classes(X[sample_idx, np.newaxis])[0]\n",
    "    else:\n",
    "        ax1.bar(classes, model.forward(X[sample_idx]).squeeze(), \n",
    "            label='prediction', color=\"red\")\n",
    "        prediction = model.predict(X[sample_idx])\n",
    "    ax1.set_xticks(classes)\n",
    "    ax1.set_title(f'Output probabilities (prediction: {prediction})')\n",
    "    ax1.set_xlabel('Digit class')\n",
    "    ax1.legend()\n",
    "    \n",
    "def plot_history(history):\n",
    "    \"\"\"Plot the history of the training of a neural network.\"\"\"\n",
    "    fig = plt.figure(figsize=(10, 5))\n",
    "    \n",
    "    ax1 = fig.add_subplot(121)\n",
    "    ax1.set(title='Model loss', xlabel='Epochs', ylabel='Loss')\n",
    "    \n",
    "    ax2 = fig.add_subplot(122)\n",
    "    ax2.set(title='Model accuracy', xlabel='Epochs', ylabel='Accuracy')\n",
    "    \n",
    "    if len(history) == 2:\n",
    "        ax1.plot(history['loss'])\n",
    "        ax2.plot(history['acc'])\n",
    "    else:\n",
    "        for lr in history:\n",
    "            ax1.plot(history[lr]['loss'], label=lr)\n",
    "            ax2.plot(history[lr]['acc'], label=lr)\n",
    "        ax1.legend(title='Learning rate')\n",
    "        ax2.legend(title='Learning rate')\n",
    "        \n",
    "    return fig"
   ]
  },
  {
   "cell_type": "code",
   "execution_count": 5,
   "metadata": {},
   "outputs": [],
   "source": [
    "# Load the data\n",
    "digits_train = pd.read_csv('/Users/lixingmin/Library/Mobile Documents/com~apple~CloudDocs/Desktop/project2_code/digit-recognizer/train.csv')\n",
    "digits_test = pd.read_csv('/Users/lixingmin/Library/Mobile Documents/com~apple~CloudDocs/Desktop/project2_code/digit-recognizer/test.csv')"
   ]
  },
  {
   "cell_type": "code",
   "execution_count": 6,
   "metadata": {},
   "outputs": [],
   "source": [
    "# Define some global parameters\n",
    "HEIGHT = 28 # Height of an image\n",
    "WIDTH = 28 # Width of an image\n",
    "PIXEL_NUMBER = 784 # Number of pixel in an image\n",
    "PIXEL_VALUE = 255 # Maximum pixel value in an image"
   ]
  },
  {
   "cell_type": "code",
   "execution_count": 7,
   "metadata": {},
   "outputs": [
    {
     "data": {
      "image/png": "[encoded data removed]",
      "text/plain": [
       "<Figure size 300x300 with 1 Axes>"
      ]
     },
     "metadata": {},
     "output_type": "display_data"
    }
   ],
   "source": [
    "# Print an image\n",
    "sample_index = 42\n",
    "\n",
    "plot_mnist(digits_train, sample_index)\n",
    "plt.show()"
   ]
  },
  {
   "cell_type": "markdown",
   "metadata": {},
   "source": [
    "### Preprocessing: \n",
    " * During this step, we will do some normalization on both the training and testing dataset."
   ]
  },
  {
   "cell_type": "code",
   "execution_count": 8,
   "metadata": {},
   "outputs": [],
   "source": [
    "# Extract and convert the pixel as numpy array with dtype='float32'\n",
    "train = np.asarray(digits_train.iloc[:, 1:], dtype='float32')\n",
    "test = np.asarray(digits_test, dtype='float32')\n",
    "\n",
    "train_target = np.asarray(digits_train.loc[:, 'label'], dtype='int32')"
   ]
  },
  {
   "cell_type": "code",
   "execution_count": 9,
   "metadata": {},
   "outputs": [],
   "source": [
    "# Scale the data\n",
    "scaler = preprocessing.StandardScaler()\n",
    "train_scale = scaler.fit_transform(train)\n",
    "test_scale = scaler.transform(test)"
   ]
  },
  {
   "cell_type": "markdown",
   "metadata": {},
   "source": [
    "## Implementation using Numpy\n",
    "\n",
    "### The Logistic Regression\n",
    "\n",
    "In this section, we will implement a logistic regression model trainable with Stochastic Gradient Descent (SGD) using `Numpy`. Here are the objectives:\n",
    "* Implement a simple forward model with no hidden layer (equivalent to logisitic regression).\n",
    "* Build a predict function which returns the most probable class given an input $x$.\n",
    "* Build an accuracy function for a batch of inputs $X$ and the corresponding expected output $y_{true}$.\n",
    "* Build a gradient function which computes the derivative of $-\\log(softmax(Wx + b))$ with respect to $W$ for an $x$ and its corresponding expected output $y_{true}$.\n",
    "* Build a train function which uses the gradient function out to update $\\mathbf{W}$ and $b$.\n",
    "\n",
    "**One-hot encoding for class label data**\n",
    "\n",
    "First, let's define a helper function to compute the one hot encoding of an integer array for a fixed number of classes (similar to Keras `to_categorical` or sklearn `OneHotEncoder`)."
   ]
  },
  {
   "cell_type": "code",
   "execution_count": 10,
   "metadata": {},
   "outputs": [],
   "source": [
    "def one_hot(n_classes, y):\n",
    "    \"\"\"Encode categorical integer as a one-hot numerical array.\n",
    "    \n",
    "    Parameters\n",
    "    ----------\n",
    "    n_classes: integer\n",
    "        The number of class considered\n",
    "    y: integer array\n",
    "        The integers that represent a category\n",
    "    \n",
    "    Return\n",
    "    ------\n",
    "    An array containing the one-hot encoding of the categorical\n",
    "    array.\n",
    "    \n",
    "    Examples\n",
    "    --------\n",
    "    >>>one_hot(n_classes=10, y=3)\n",
    "    array([0., 0., 0., 1., 0., 0., 0., 0., 0., 0.])\n",
    "    \n",
    "    >>>one_hot(n_classes=10, y=[3, 0, 6])\n",
    "    array([[0., 0., 0., 1., 0., 0., 0., 0., 0., 0.],\n",
    "           [1., 0., 0., 0., 0., 0., 0., 0., 0., 0.],\n",
    "           [0., 0., 0., 0., 0., 0., 1., 0., 0., 0.]])\n",
    "    \"\"\"\n",
    "    return np.eye(n_classes)[y]"
   ]
  },
  {
   "cell_type": "markdown",
   "metadata": {},
   "source": [
    "**The softmax function**\n",
    "\n",
    "Now, let's implement the softmax vector function:\n",
    "\n",
    "$$softmax(\\mathbf{x}) = \\frac{1}{\\sum \\exp(x_i)}\\begin{pmatrix}\\exp(x_1) & \\exp(x_2) & \\dots & \\exp(x_n)\\end{pmatrix}^\\top.$$\n",
    "\n",
    "In fact, we will substract $\\max{x}$ to each $x_i$ for implementation and more robust and stable computation."
   ]
  },
  {
   "cell_type": "code",
   "execution_count": 11,
   "metadata": {},
   "outputs": [],
   "source": [
    "def softmax(X):\n",
    "    \"\"\" Compute the softmax function of a vector.\n",
    "    \n",
    "    Parameters\n",
    "    ----------\n",
    "    X: array\n",
    "        Input values\n",
    "    \n",
    "    Return\n",
    "    ------\n",
    "    An array containing the softmax values. For each row, the\n",
    "    sum of the column should be one.\n",
    "    \n",
    "    Examples\n",
    "    --------\n",
    "    >>>softmax([10, 2, -3])\n",
    "    array([9.99662391e-01, 3.35349373e-04, 2.25956630e-06])\n",
    "    >>>softmax([[10, 2, -3],\n",
    "                [-1, 5, -20]])\n",
    "    array([[9.99662391e-01, 3.35349373e-04, 2.25956630e-06],\n",
    "       [2.47262316e-03, 9.97527377e-01, 1.38536042e-11]])\n",
    "    \"\"\"\n",
    "    X = np.atleast_2d(X)\n",
    "    \n",
    "    exp = np.exp(X - np.max(X, axis=1, keepdims=True))\n",
    "    return exp / np.sum(exp, axis=-1, keepdims=True)"
   ]
  },
  {
   "cell_type": "code",
   "execution_count": 12,
   "metadata": {},
   "outputs": [
    {
     "name": "stdout",
     "output_type": "stream",
     "text": [
      "Softmax of a single vector: [[9.99662391e-01 3.35349373e-04 2.25956630e-06]].\n"
     ]
    }
   ],
   "source": [
    "# Test of the softmax function\n",
    "print(f\"Softmax of a single vector: {softmax([10, 2, -3])}.\")"
   ]
  },
  {
   "cell_type": "code",
   "execution_count": 13,
   "metadata": {},
   "outputs": [
    {
     "name": "stdout",
     "output_type": "stream",
     "text": [
      "Sum of a softmax vector: 1.0\n"
     ]
    }
   ],
   "source": [
    "# Check that the probabilities sum to one\n",
    "print(f\"Sum of a softmax vector: {np.sum(softmax([10, 2, -3]))}\")"
   ]
  },
  {
   "cell_type": "code",
   "execution_count": 14,
   "metadata": {},
   "outputs": [
    {
     "name": "stdout",
     "output_type": "stream",
     "text": [
      "Softmax of two vectors: [[9.99662391e-01 3.35349373e-04 2.25956630e-06]\n",
      " [2.47262316e-03 9.97527377e-01 1.38536042e-11]].\n"
     ]
    }
   ],
   "source": [
    "# Test of the softmax function of two vectors\n",
    "print(f\"Softmax of two vectors: {softmax([[10, 2, -3], [-1, 5, -20]])}.\")"
   ]
  },
  {
   "cell_type": "code",
   "execution_count": 15,
   "metadata": {},
   "outputs": [
    {
     "name": "stdout",
     "output_type": "stream",
     "text": [
      "Sum of a softmax vector: [1. 1.]\n"
     ]
    }
   ],
   "source": [
    "# Check that the probabilities sum to one\n",
    "print(f\"Sum of a softmax vector: {np.sum(softmax([[10, 2, -3], [-1, 5, -20]]), axis=1)}\")"
   ]
  },
  {
   "cell_type": "markdown",
   "metadata": {},
   "source": [
    "**The negative log-likelihood**\n",
    "\n",
    "Then, we implement a function that given the true one-hot encoded class `Y_true` and some predicted probabilities `Y_pred` returns the negative log-likelihood."
   ]
  },
  {
   "cell_type": "code",
   "execution_count": 16,
   "metadata": {},
   "outputs": [],
   "source": [
    "def neg_log_likelihood(Y_true, Y_pred):\n",
    "    \"\"\"Compute the negative log-likelihood of a sample.\n",
    "    \n",
    "    Parameters\n",
    "    ----------\n",
    "    Y_true: array\n",
    "        One-hot encoded class\n",
    "    Y_pred: array\n",
    "        Predicted probabilities\n",
    "    \n",
    "    Return\n",
    "    ------\n",
    "    The average negative log-likelihood of the sample. The closest we are\n",
    "    to 0, the better are the predictions.\n",
    "    \n",
    "    Examples\n",
    "    --------\n",
    "    >>>neg_log_likelihood([1, 0, 0], [0.99, 0, 0.01])\n",
    "    array([0.01005034])\n",
    "    >>>neg_log_likelihood([1, 0, 0], [0.01, 0.98, 0.01])\n",
    "    array([4.60517019])\n",
    "    >>>Y_true = np.array([[0, 1, 0],\n",
    "                          [1, 0, 0],\n",
    "                          [0, 0, 1]])\n",
    "    >>>Y_pred = np.array([[0,   1,    0],\n",
    "                          [.99, 0.01, 0],\n",
    "                          [0,   0,    1]])\n",
    "    >>>neg_log_likelihood(Y_true, Y_pred)\n",
    "    0.00335011195116715\n",
    "    \"\"\"\n",
    "    Y_true = np.atleast_2d(Y_true)\n",
    "    Y_pred = np.atleast_2d(Y_pred)\n",
    "    \n",
    "    loglike = np.sum(np.log(1e-8 + Y_pred) * Y_true, axis=1)\n",
    "    return -np.mean(loglike)"
   ]
  },
  {
   "cell_type": "code",
   "execution_count": 17,
   "metadata": {},
   "outputs": [
    {
     "name": "stdout",
     "output_type": "stream",
     "text": [
      "Negative log-likelihood : 0.01005032575249135.\n"
     ]
    }
   ],
   "source": [
    "# Make sure that it works for a simple sample at a time\n",
    "print(f\"Negative log-likelihood : {neg_log_likelihood([1, 0, 0], [.99, 0.01, 0])}.\")"
   ]
  },
  {
   "cell_type": "code",
   "execution_count": 18,
   "metadata": {},
   "outputs": [
    {
     "name": "stdout",
     "output_type": "stream",
     "text": [
      "Negative log-likelihood : 4.605169185988592.\n"
     ]
    }
   ],
   "source": [
    "# Check that the negative log-likelihood of a very confident yet bad\n",
    "# prediction is a much higher positive number\n",
    "print(f\"Negative log-likelihood : {neg_log_likelihood([1, 0, 0], [0.01, 0.01, .98])}.\")"
   ]
  },
  {
   "cell_type": "code",
   "execution_count": 19,
   "metadata": {},
   "outputs": [
    {
     "name": "stdout",
     "output_type": "stream",
     "text": [
      "Negative log-likelihood : 0.0033501019174971905.\n"
     ]
    }
   ],
   "source": [
    "# Check that the average negative log-likelihood of the following three\n",
    "# almost perfect predictions is close to 0\n",
    "Y_true = np.array([[0, 1, 0], [1, 0, 0], [0, 0, 1]])\n",
    "Y_pred = np.array([[0, 1, 0], [.99, 0.01, 0], [0, 0, 1]])\n",
    "\n",
    "print(f\"Negative log-likelihood : {neg_log_likelihood(Y_true, Y_pred)}.\")"
   ]
  },
  {
   "cell_type": "markdown",
   "metadata": {},
   "source": [
    "**Logistic regression with SGD**\n",
    "\n",
    "Let us now study the following linear model trainable by SGD, **one sample at a time**."
   ]
  },
  {
   "cell_type": "code",
   "execution_count": 20,
   "metadata": {},
   "outputs": [],
   "source": [
    "class LogisticRegression():\n",
    "    \"\"\"Define a class for the Logistic Regression with SGD optimization\n",
    "    \n",
    "    Parameters\n",
    "    ----------\n",
    "    input_size: integer\n",
    "        Input size of the model (number of features)\n",
    "    output_size: integer\n",
    "        Output size of the model (number of classes)\n",
    "        \n",
    "    Arguments\n",
    "    ---------\n",
    "    W: array\n",
    "        Array of weights\n",
    "    b: vector\n",
    "        Vector of bias\n",
    "    output_size: integer\n",
    "        Output size of the model (number of classes)\n",
    "    \"\"\"\n",
    "    def __init__(self, input_size, output_size):\n",
    "        self.W = np.random.uniform(size=(input_size, output_size),\n",
    "                                   low=-0.1, high=0.1)\n",
    "        self.b = np.random.uniform(size=output_size,\n",
    "                                   low=-0.1, high=0.1)\n",
    "        self.output_size = output_size\n",
    "        \n",
    "    def forward(self, X):\n",
    "        \"\"\"Compute the posterior probabilities\n",
    "        \n",
    "        Parameter\n",
    "        ---------\n",
    "        X: array, shape=(n_obs, n_features)\n",
    "            Input array\n",
    "            \n",
    "        Return\n",
    "        ------\n",
    "        An array of shape `(n_obs, n_class)` of probabilities of each class.\n",
    "        \"\"\"\n",
    "        Z = np.dot(X, self.W) + self.b\n",
    "        return softmax(Z)\n",
    "    \n",
    "    def predict(self, X):\n",
    "        \"\"\"Give the most probable class of the observations\n",
    "        \n",
    "        Parameter\n",
    "        ---------\n",
    "        X: array, shape=(n_obs, n_features)\n",
    "            Input array\n",
    "        \n",
    "        Return\n",
    "        ------\n",
    "        A vector of length `n_obs` that give the predicted class for\n",
    "        each observation.\n",
    "        \"\"\"\n",
    "        if len(X.shape) == 1:\n",
    "            return np.argmax(self.forward(X))\n",
    "        else:\n",
    "            return np.argmax(self.forward(X), axis=1)\n",
    "        \n",
    "    def grad_loss(self, X, y_true):\n",
    "        \"\"\"Backpropagation of the gradients\n",
    "        https://m2dsupsdlclass.github.io/lectures-labs/slides/02_backprop/index.html#40\n",
    "        \n",
    "        Parameters\n",
    "        ----------\n",
    "        X: array\n",
    "            Observations\n",
    "        y_true: integer\n",
    "            True class of the observations\n",
    "            \n",
    "        Return\n",
    "        ------\n",
    "        Dictionnary containing the gradients for the weighs and the bias.\n",
    "        \"\"\"\n",
    "        y_pred = self.forward(X)\n",
    "        dnll_ouput = y_pred - one_hot(self.output_size, y_true)\n",
    "        grad_W = np.outer(X, dnll_ouput)\n",
    "        grad_b = dnll_ouput\n",
    "        return {'W': grad_W, 'b': grad_b}\n",
    "    \n",
    "    def train(self, X, y, learning_rate=0.01):\n",
    "        \"\"\"Perform traditional SGD update without momentum.\n",
    "        Update self.W and self.b\n",
    "        \n",
    "        Parameters\n",
    "        ----------\n",
    "        X: array\n",
    "            Observations\n",
    "        y: vector\n",
    "            True classes\n",
    "        learning_rate: double, default=0.01\n",
    "            Learning rate\n",
    "        \"\"\"\n",
    "        grads = self.grad_loss(X, y)\n",
    "        self.W = self.W - learning_rate * grads['W']\n",
    "        self.b = self.b - learning_rate * grads['b']\n",
    "    \n",
    "    def loss(self, X, y):\n",
    "        \"\"\"Compute the negative log-likelihood of the data.\n",
    "        \n",
    "        Parameters\n",
    "        ----------\n",
    "        X: array\n",
    "            Observations\n",
    "        y: vector\n",
    "            True classes\n",
    "            \n",
    "        Return\n",
    "        ------\n",
    "        The average negative log-likelihood of the prediction of the observations.\n",
    "        \"\"\"\n",
    "        return neg_log_likelihood(one_hot(self.output_size, y), self.forward(X))\n",
    "    \n",
    "    def accuracy(self, X, y):\n",
    "        \"\"\"Compute the prediction accuracy of the data.\n",
    "        \n",
    "        Parameters\n",
    "        ----------\n",
    "        X: array\n",
    "            Observations\n",
    "        y: vector\n",
    "            True classes\n",
    "            \n",
    "        Return\n",
    "        ------\n",
    "        The accuracy of the predictions\n",
    "        \"\"\"\n",
    "        y_preds = np.argmax(self.forward(X), axis=1)\n",
    "        return np.mean(y_preds == y)"
   ]
  },
  {
   "cell_type": "code",
   "execution_count": 21,
   "metadata": {},
   "outputs": [],
   "source": [
    "# Split the train set into train and validation set.\n",
    "X_train, X_val, y_train, y_val = train_test_split(\n",
    "    train_scale, train_target, test_size=0.15, random_state=42)"
   ]
  },
  {
   "cell_type": "code",
   "execution_count": 22,
   "metadata": {},
   "outputs": [
    {
     "name": "stdout",
     "output_type": "stream",
     "text": [
      "Evaluation of the untrained model (recall that the weight and the bias are initialized as random):\n",
      "    * train loss: 2.7780068216979923\n",
      "    * train accuracy: 0.11442577030812325\n",
      "    * test accuracy: 0.11142857142857143\n",
      "    \n"
     ]
    }
   ],
   "source": [
    "# Build a logistic model and test its forward inference\n",
    "n_features = X_train.shape[1]\n",
    "n_classes = len(np.unique(y_train))\n",
    "lr = LogisticRegression(n_features, n_classes)\n",
    "\n",
    "print(f\"\"\"Evaluation of the untrained model (recall that the weight and the bias are initialized as random):\n",
    "    * train loss: {lr.loss(X_train, y_train)}\n",
    "    * train accuracy: {lr.accuracy(X_train, y_train)}\n",
    "    * test accuracy: {lr.accuracy(X_val, y_val)}\n",
    "    \"\"\")"
   ]
  },
  {
   "cell_type": "markdown",
   "metadata": {},
   "source": [
    "Of course, without training the results are very poor! With random initialization, we perform almost the same than just random guessing which have a test accuracy of $0.1$."
   ]
  },
  {
   "cell_type": "code",
   "execution_count": 23,
   "metadata": {},
   "outputs": [
    {
     "data": {
      "image/png": "[encoded data removed]",
      "text/plain": [
       "<Figure size 1000x400 with 2 Axes>"
      ]
     },
     "metadata": {},
     "output_type": "display_data"
    }
   ],
   "source": [
    "plot_prediction(X_val, y_val, lr, sample_idx=42)"
   ]
  },
  {
   "cell_type": "markdown",
   "metadata": {},
   "source": [
    "Now, we will train the network for only one epoch."
   ]
  },
  {
   "cell_type": "code",
   "execution_count": 24,
   "metadata": {},
   "outputs": [
    {
     "name": "stdout",
     "output_type": "stream",
     "text": [
      "Update #0: train loss: 2.7392757292283316, train accuracy: 0.12652661064425771, test accuracy: 0.12365079365079365\n",
      "Update #10000: train loss: 0.677546170221836, train accuracy: 0.8711484593837535, test accuracy: 0.8639682539682539\n",
      "Update #20000: train loss: 0.5878021217455002, train accuracy: 0.8938095238095238, test accuracy: 0.8790476190476191\n",
      "Update #30000: train loss: 0.6311159460106528, train accuracy: 0.8910924369747899, test accuracy: 0.8752380952380953\n"
     ]
    }
   ],
   "source": [
    "learning_rate = 0.01\n",
    "for i, (x, y) in enumerate(zip(X_train, y_train)):\n",
    "    lr.train(x, y, learning_rate)\n",
    "    if i % 10000 == 0:\n",
    "        print(f\"Update #{i}: train loss: {lr.loss(X_train, y_train)}, train accuracy: {lr.accuracy(X_train, y_train)}, test accuracy: {lr.accuracy(X_val, y_val)}\")"
   ]
  },
  {
   "cell_type": "markdown",
   "metadata": {},
   "source": [
    "After one epoch, we can see that the test accuracy is a bit less than $0.9$ (which is quite nice). \n",
    "Now, we will evaluate the model on the same image as before to see if the result changes."
   ]
  },
  {
   "cell_type": "code",
   "execution_count": 25,
   "metadata": {},
   "outputs": [
    {
     "data": {
      "image/png": "[encoded data removed]",
      "text/plain": [
       "<Figure size 1000x400 with 2 Axes>"
      ]
     },
     "metadata": {},
     "output_type": "display_data"
    }
   ],
   "source": [
    "plot_prediction(X_val, y_val, lr, sample_idx=42)"
   ]
  },
  {
   "cell_type": "markdown",
   "metadata": {},
   "source": [
    "Even if it's wrong, the model is now very confident for the prediction of the new image, which was not the case before the first epoch (usually the probability to belong to a particular class is below $0.4$). "
   ]
  },
  {
   "cell_type": "markdown",
   "metadata": {},
   "source": [
    "### The Feedforward Multilayer\n",
    "\n",
    "The objective of this section is to implement the backpropagation algorithm (SGD with the chain rule) on a single layer neural network using the sigmoid activation function.\n",
    "\n",
    "**The sigmoid function**\n",
    "\n",
    "The sigmoid function is defined by:\n",
    "$$S(x) = \\frac{1}{1 + \\exp(-x)} = \\frac{\\exp(x)}{\\exp(x) + 1}$$\n",
    "\n",
    "The derivative of the sigmoid function is defined by:\n",
    "$$\\frac{dS(x)}{dx} = S(x)\\left(1 - S(x)\\right)$$"
   ]
  },
  {
   "cell_type": "code",
   "execution_count": 26,
   "metadata": {},
   "outputs": [],
   "source": [
    "# Definition of the sigmoid function.\n",
    "def sigmoid(X):\n",
    "    \"\"\"Compute the sigmoid function.\n",
    "    \n",
    "    Parameter\n",
    "    ---------\n",
    "    X: array-like\n",
    "        Input array\n",
    "        \n",
    "    Return\n",
    "    ------\n",
    "    Sigmoid function on the input array.\n",
    "    \n",
    "    Examples\n",
    "    --------\n",
    "    >>>sigmoid(np.array([5, 2, 0]))\n",
    "    array([0.99330715, 0.88079708, 0.5])\n",
    "    >>>sigmoid(np.array([[5, 2, 0], [-2, 3, 0]]))\n",
    "    array([[0.99330715, 0.88079708, 0.5],\n",
    "           [0.11920292, 0.95257413, 0.5]])\n",
    "           \n",
    "    Notes\n",
    "    -----\n",
    "    X < -709 is to prevent exp overflow.\n",
    "    \"\"\"\n",
    "    X[X < -709] = -709\n",
    "    return 1 / (1 + np.exp(-X))\n",
    "\n",
    "def dsigmoid(X):\n",
    "    \"\"\"Compute the element-wide derivative of the sigmoid function.\n",
    "    \n",
    "    Parameter\n",
    "    ---------\n",
    "    X: array-like\n",
    "        Input array\n",
    "    \n",
    "    Return\n",
    "    ------\n",
    "    Derivative of the sigmoid function on the input array.\n",
    "    \n",
    "    Examples\n",
    "    --------\n",
    "    >>>dsigmoid(np.array([5, 2, 0]))\n",
    "    array([0.00664806, 0.10499359, 0.25])\n",
    "    >>>dsigmoid(np.array([[5, 2, 0], [-2, 3, 0]]))\n",
    "    array([[0.00664806, 0.10499359, 0.25],\n",
    "           [0.10499359, 0.04517666, 0.25]])\n",
    "    \"\"\"\n",
    "    S = sigmoid(X)\n",
    "    return S * (1 - S)"
   ]
  },
  {
   "cell_type": "code",
   "execution_count": 27,
   "metadata": {},
   "outputs": [
    {
     "data": {
      "image/png": "[encoded data removed]",
      "text/plain": [
       "<Figure size 640x480 with 1 Axes>"
      ]
     },
     "metadata": {},
     "output_type": "display_data"
    }
   ],
   "source": [
    "# Plot of the functions\n",
    "X = np.linspace(-5, 5, 100)\n",
    "plt.plot(X, sigmoid(X), label='Sigmoid')\n",
    "plt.plot(X, dsigmoid(X), label='Derivative')\n",
    "plt.legend(loc='best')\n",
    "plt.show()"
   ]
  },
  {
   "cell_type": "markdown",
   "metadata": {},
   "source": [
    "**The tanh function**\n",
    "\n",
    "The tanh function is defined by:\n",
    "$$T(x) = \\frac{\\exp(2x) - 1}{\\exp(2x) + 1}$$\n",
    "\n",
    "The derivative of the tanh function is defined by:\n",
    "$$\\frac{dT(x)}{dx} = 1 - T(x)^2$$"
   ]
  },
  {
   "cell_type": "code",
   "execution_count": 28,
   "metadata": {},
   "outputs": [],
   "source": [
    "# Definition of the tanh function.\n",
    "def tanh(X):\n",
    "    \"\"\"Compute the tanh function.\n",
    "    \n",
    "    Parameter\n",
    "    ---------\n",
    "    X: array-like\n",
    "        Input array\n",
    "        \n",
    "    Return\n",
    "    ------\n",
    "    Tanh function on the input array.\n",
    "    \n",
    "    Examples\n",
    "    --------\n",
    "    >>>tanh(np.array([5, 2, 0]))\n",
    "    array([0.9999092 , 0.96402758, 0.])\n",
    "    >>>tanh(np.array([[5, 2, 0], [-2, 3, 0]]))\n",
    "    array([[ 0.9999092 ,  0.96402758,  0.],\n",
    "           [-0.96402758,  0.99505475,  0.]])\n",
    "    \n",
    "    Notes\n",
    "    -----\n",
    "    X > 354 is to prevent exp overflow.\n",
    "    \"\"\"\n",
    "    X[X > 354] = 354\n",
    "    exp = np.exp(2*X)\n",
    "    return (exp - 1) / (exp + 1)\n",
    "\n",
    "def dtanh(X):\n",
    "    \"\"\"Compute the element-wide derivative of the tanh function.\n",
    "    \n",
    "    Parameter\n",
    "    ---------\n",
    "    X: array-like\n",
    "        Input array\n",
    "    \n",
    "    Return\n",
    "    ------\n",
    "    Derivative of the tanh function on the input array.\n",
    "    \n",
    "    Examples\n",
    "    --------\n",
    "    >>>dtanh(np.array([5, 2, 0]))\n",
    "    array([1.81583231e-04, 7.06508249e-02, 1.00000000e+00])\n",
    "    >>>dtanh(np.array([[5, 2, 0], [-2, 3, 0]]))\n",
    "    array([[1.81583231e-04, 7.06508249e-02, 1.00000000e+00],\n",
    "           [7.06508249e-02, 9.86603717e-03, 1.00000000e+00]])\n",
    "    \"\"\"\n",
    "    S = tanh(X)\n",
    "    return 1 - np.power(S, 2)"
   ]
  },
  {
   "cell_type": "code",
   "execution_count": 29,
   "metadata": {},
   "outputs": [
    {
     "data": {
      "image/png": "[encoded data removed]",
      "text/plain": [
       "<Figure size 640x480 with 1 Axes>"
      ]
     },
     "metadata": {},
     "output_type": "display_data"
    }
   ],
   "source": [
    "# Plot of the functions\n",
    "X = np.linspace(-5, 5, 100)\n",
    "plt.plot(X, tanh(X), label='Tanh')\n",
    "plt.plot(X, dtanh(X), label='Derivative')\n",
    "plt.legend(loc='best')\n",
    "plt.show()"
   ]
  },
  {
   "cell_type": "markdown",
   "metadata": {},
   "source": [
    "**The relu function**\n",
    "\n",
    "The relu function is defined by:\n",
    "$$R(x) = \\max(0, x)$$\n",
    "\n",
    "The derivative of the relu function is defined by:\n",
    "$$\\frac{dR(x)}{dx} = \\mathbb{1}(x > 0)$$"
   ]
  },
  {
   "cell_type": "code",
   "execution_count": 30,
   "metadata": {},
   "outputs": [],
   "source": [
    "# Definition of the relu function.\n",
    "def relu(X):\n",
    "    \"\"\"Compute the relu function.\n",
    "    \n",
    "    Parameter\n",
    "    ---------\n",
    "    X: array-like\n",
    "        Input array\n",
    "        \n",
    "    Return\n",
    "    ------\n",
    "    Relu function on the input array.\n",
    "    \n",
    "    Examples\n",
    "    --------\n",
    "    >>>relu(np.array([5, -2, 0]))\n",
    "    array([5, 0, 0])\n",
    "    >>>relu(np.array([[5, 2, 0], [-2, 3, 0]]))\n",
    "    array([[5, 2, 0],\n",
    "           [0, 3, 0]])\n",
    "    \"\"\"\n",
    "    return np.maximum(0, X).astype(np.float64)\n",
    "\n",
    "def drelu(X):\n",
    "    \"\"\"Compute the element-wide derivative of the relu function.\n",
    "    \n",
    "    Parameter\n",
    "    ---------\n",
    "    X: array-like\n",
    "        Input array\n",
    "    \n",
    "    Return\n",
    "    ------\n",
    "    Derivative of the relu function on the input array.\n",
    "    \n",
    "    Examples\n",
    "    --------\n",
    "    >>>drelu(np.array([5, -2, 0]))\n",
    "    array([1., 0., 0.])\n",
    "    >>>drelu(np.array([[5, 2, 0], [-2, 3, 0]]))\n",
    "    array([[1., 1., 0.],\n",
    "           [0., 1., 0.]])\n",
    "    \"\"\"\n",
    "    return np.array(X > 0).astype(np.float64)"
   ]
  },
  {
   "cell_type": "code",
   "execution_count": 31,
   "metadata": {},
   "outputs": [
    {
     "data": {
      "image/png": "[encoded data removed]",
      "text/plain": [
       "<Figure size 640x480 with 1 Axes>"
      ]
     },
     "metadata": {},
     "output_type": "display_data"
    }
   ],
   "source": [
    "# Plot of the functions\n",
    "X = np.linspace(-5, 5, 100)\n",
    "plt.plot(X, relu(X), label='Relu')\n",
    "plt.plot(X, drelu(X), label='Derivative')\n",
    "plt.legend(loc='best')\n",
    "plt.show()"
   ]
  },
  {
   "cell_type": "markdown",
   "metadata": {},
   "source": [
    "**The feedforward neural network with one hidden layer**"
   ]
  },
  {
   "cell_type": "code",
   "execution_count": 32,
   "metadata": {},
   "outputs": [],
   "source": [
    "EPSILON = 1e-8\n",
    "\n",
    "class NeuralNet():\n",
    "    \"\"\"Define a class for the MultiLayer Perceptron with \n",
    "    one hidden layer with a sigmoid activation function.\n",
    "    \n",
    "    Parameters\n",
    "    ----------\n",
    "    input_size: integer\n",
    "        Input size of the model (number of features)\n",
    "    hidden_size: integer\n",
    "        Size of the hidden layer (hyperparameter)\n",
    "    output_size: integer\n",
    "        Output size of the model (number of classes)\n",
    "    activation_function: 'sigmoid', 'tanh' or 'relu', default='sigmoid'\n",
    "        Activation function for the hidden layer.\n",
    "    Arguments\n",
    "    ---------\n",
    "    W_h: array\n",
    "        Weight array of the hidden layer\n",
    "    W_o: array\n",
    "        Weight array of the output layer\n",
    "    b_h: vector\n",
    "        Bias vecor of the hidden layer\n",
    "    b_o: vector\n",
    "        Bias vector of the output layer\n",
    "    output_size: integer\n",
    "        Output size of the model (number of classes)\n",
    "    \"\"\"\n",
    "    def __init__(self, input_size, hidden_size, output_size, activation_function='sigmoid'):\n",
    "        self.W_h = np.random.uniform(size=(input_size, hidden_size),\n",
    "                                     low=-0.1, high=0.1)\n",
    "        self.b_h = np.zeros(hidden_size)\n",
    "        self.W_o = np.random.uniform(size=(hidden_size, output_size),\n",
    "                                     low=-0.1, high=0.1)\n",
    "        self.b_o = np.zeros(output_size)\n",
    "        self.output_size = output_size\n",
    "        self.activation_function = activation_function\n",
    "        \n",
    "    def forward(self, X):\n",
    "        \"\"\"Compute the posterior probabilities.\n",
    "        \n",
    "        Parameter\n",
    "        ---------\n",
    "        X: array, shape=(n_obs, n_features)\n",
    "            Input array\n",
    "        \n",
    "        Return\n",
    "        ------\n",
    "        An array of shape `(n_obs, n_class)` of probabilities of each class.\n",
    "        \"\"\"\n",
    "        if self.activation_function == 'tanh':\n",
    "            h = tanh(np.dot(X, self.W_h) + self.b_h)\n",
    "        elif self.activation_function == 'relu':\n",
    "            h = relu(np.dot(X, self.W_h) + self.b_h)\n",
    "        else:\n",
    "            h = sigmoid(np.dot(X, self.W_h) + self.b_h)\n",
    "        y = softmax(np.dot(h, self.W_o) + self.b_o)\n",
    "        return y\n",
    "    \n",
    "    def forward_physical(self, X):\n",
    "        \"\"\"Compute the posterior probabilities with physical model errors.\"\"\"\n",
    "        # Error factor: standard normal distribution (mean=0, std=1)\n",
    "        error_factor_W_h = np.random.normal(loc=0, scale=1, size=self.W_h.shape)\n",
    "        error_factor_W_o = np.random.normal(loc=0, scale=1, size=self.W_o.shape)\n",
    "        error_factor_b_h = np.random.normal(loc=0, scale=1, size=self.b_h.shape)\n",
    "        error_factor_b_o = np.random.normal(loc=0, scale=1, size=self.b_o.shape)\n",
    "\n",
    "        # Adjust weights with 30% systematic error\n",
    "        W_h = self.W_h * (1 + 0.3 * error_factor_W_h)\n",
    "        W_o = self.W_o * (1 + 0.3 * error_factor_W_o)\n",
    "        b_h = self.b_h * (1 + 0.3 * error_factor_b_h)\n",
    "        b_o = self.b_o * (1 + 0.3 * error_factor_b_o)\n",
    "\n",
    "        z_h = np.dot(X, W_h) + b_h\n",
    "        h = self._apply_activation(z_h)\n",
    "        y = softmax(np.dot(h, W_o) + b_o)\n",
    "        return y \n",
    "    \n",
    "    def forward_keep_activations(self, X):\n",
    "        \"\"\"Compute the posterior probabilities.\n",
    "        \n",
    "        Parameter\n",
    "        ---------\n",
    "        X: array, shape=(n_obs, n_features)\n",
    "            Input array\n",
    "            \n",
    "        Return\n",
    "        ------\n",
    "        An array of shape `(n_obs, n_class)` of probabilities of each class,\n",
    "        and the hidden activations and pre-activitations arrays.\n",
    "        \"\"\"\n",
    "        z_h = np.dot(X, self.W_h) + self.b_h\n",
    "        if self.activation_function == 'tanh':\n",
    "            h = tanh(z_h)\n",
    "        elif self.activation_function == 'relu':\n",
    "            h = relu(z_h)\n",
    "        else:\n",
    "            h = sigmoid(z_h)\n",
    "        y = softmax(np.dot(h, self.W_o) + self.b_o)\n",
    "        return y, h, z_h\n",
    "\n",
    "    def forward_keep_activations_physical(self, X):\n",
    "        \"\"\"Compute the posterior probabilities with physical model errors, keeping activations.\"\"\"\n",
    "        # Error factor: standard normal distribution (mean=0, std=1)\n",
    "        error_factor_W_h = np.random.normal(loc=0, scale=1, size=self.W_h.shape)\n",
    "        error_factor_W_o = np.random.normal(loc=0, scale=1, size=self.W_o.shape)\n",
    "        error_factor_b_h = np.random.normal(loc=0, scale=1, size=self.b_h.shape)\n",
    "        error_factor_b_o = np.random.normal(loc=0, scale=1, size=self.b_o.shape)\n",
    "\n",
    "        # Adjust weights with 30% systematic error\n",
    "        W_h = self.W_h * (1 + 0.3 * error_factor_W_h)\n",
    "        W_o = self.W_o * (1 + 0.3 * error_factor_W_o)\n",
    "        b_h = self.b_h * (1 + 0.3 * error_factor_b_h)\n",
    "        b_o = self.b_o * (1 + 0.3 * error_factor_b_o)\n",
    "\n",
    "        z_h = np.dot(X, W_h) + b_h\n",
    "        h = self._apply_activation(z_h)\n",
    "        y = softmax(np.dot(h, W_o) + b_o)\n",
    "        return y, h, z_h \n",
    "       \n",
    "    def grad_loss(self, X, y_true):\n",
    "        \"\"\"Backpropagation of the gradients\n",
    "        https://m2dsupsdlclass.github.io/lectures-labs/slides/02_backprop/index.html#40\n",
    "        \n",
    "        Parameters\n",
    "        ----------\n",
    "        X: array\n",
    "            Observations\n",
    "        y_true: integer\n",
    "            True class of the observations\n",
    "            \n",
    "        Return\n",
    "        ------\n",
    "        Dictionary containing the gradients for the weights and the bias.\n",
    "        \"\"\"\n",
    "        y_pred, h, z_h = self.forward_keep_activations_physical(X)\n",
    "        grad_z_o = y_pred - one_hot(self.output_size, y_true)\n",
    "        \n",
    "        grad_W_o = np.outer(h, grad_z_o)\n",
    "        grad_b_o = grad_z_o\n",
    "        \n",
    "        grad_h = np.dot(grad_z_o, np.transpose(self.W_o))\n",
    "        if self.activation_function == 'tanh':\n",
    "            grad_z_h = grad_h * dtanh(z_h)\n",
    "        elif self.activation_function == 'relu':\n",
    "            grad_z_h = grad_h * drelu(z_h)\n",
    "        else:\n",
    "            grad_z_h = grad_h * dsigmoid(z_h)\n",
    "        \n",
    "        grad_W_h = np.outer(X, grad_z_h)\n",
    "        grad_b_h = grad_z_h\n",
    "        \n",
    "        return {\"W_h\": grad_W_h, \"b_h\": grad_b_h, \"W_o\": grad_W_o, \"b_o\": grad_b_o}\n",
    "    \n",
    "    def train(self, X, y, learning_rate):\n",
    "        \"\"\"Perform traditional SGD update without momentum.\n",
    "        Update self.W_h, self.W_o, self.b_h and self.b_o.\n",
    "        \n",
    "        Parameters\n",
    "        ----------\n",
    "        X: array\n",
    "            Observations\n",
    "        y: vector\n",
    "            True classes\n",
    "        learning_rate: double, default=0.01\n",
    "            Learning rate\n",
    "        \"\"\"\n",
    "        grads = self.grad_loss(X, y)\n",
    "        self.W_h = self.W_h - learning_rate * grads['W_h']\n",
    "        self.b_h = self.b_h - learning_rate * grads['b_h']\n",
    "        \n",
    "        self.W_o = self.W_o - learning_rate * grads['W_o']\n",
    "        self.b_o = self.b_o - learning_rate * grads['b_o']\n",
    "    \n",
    "    def predict(self, X):\n",
    "        \"\"\"Give the most probable class of the observations.\n",
    "        \n",
    "        Parameter\n",
    "        ---------\n",
    "        X: array, shape=(n_obs, n_features)\n",
    "            Input array\n",
    "        \n",
    "        Return\n",
    "        ------\n",
    "        A vector of length `n_obs` that give the predicted class for each observation.\n",
    "        \"\"\"\n",
    "        if len(X.shape) == 1:\n",
    "            return np.argmax(self.forward(X))\n",
    "        else:\n",
    "            return np.argmax(self.forward(X), axis=1)\n",
    "\n",
    "    def loss(self, X, y):\n",
    "        \"\"\"Compute the negative log-likelihood of the data.\n",
    "        \n",
    "        Parameters\n",
    "        ----------\n",
    "        X: array\n",
    "            Observations\n",
    "        y: vector\n",
    "            True classes\n",
    "            \n",
    "        Return\n",
    "        ------\n",
    "        The average negative log-likelihood of the prediction of the observations.\n",
    "        \"\"\"\n",
    "        return neg_log_likelihood(one_hot(self.output_size, y), self.forward(X))\n",
    "    \n",
    "    def accuracy(self, X, y):\n",
    "        \"\"\"Compute the prediction accuracy of the data.\n",
    "        \n",
    "        Parameters\n",
    "        ----------\n",
    "        X: array\n",
    "            Observations\n",
    "        y: vector\n",
    "            True classes\n",
    "        \n",
    "        Return\n",
    "        ------\n",
    "        The accuracy of the predictions\n",
    "        \"\"\"\n",
    "        y_preds = np.argmax(self.forward(X), axis=1)\n",
    "        return np.mean(y_preds == y)\n",
    "    \n",
    "    def _apply_activation(self, z):\n",
    "        \"\"\"Helper function to apply activation function.\"\"\"\n",
    "        if self.activation_function == 'tanh':\n",
    "            return tanh(z)\n",
    "        elif self.activation_function == 'relu':\n",
    "            return relu(z)\n",
    "        else:\n",
    "            return sigmoid(z)\n",
    "\n",
    "    def _apply_activation_derivative(self, z):\n",
    "        \"\"\"Helper function to apply derivative of activation function.\"\"\"\n",
    "        if self.activation_function == 'tanh':\n",
    "            return dtanh(z)\n",
    "        elif self.activation_function == 'relu':\n",
    "            return drelu(z)\n",
    "        else:\n",
    "            return dsigmoid(z)"
   ]
  },
  {
   "cell_type": "code",
   "execution_count": 33,
   "metadata": {},
   "outputs": [
    {
     "name": "stdout",
     "output_type": "stream",
     "text": [
      "Evaluation of the untrained model (recall that the weights are initialized as random):\n",
      "    * train loss: 2.3091066835564025\n",
      "    * train accuracy: 0.11277310924369748\n",
      "    * test accuracy: 0.10539682539682539\n",
      "    \n"
     ]
    }
   ],
   "source": [
    "# Build a NeuralNet model and test its forward inference\n",
    "n_features = X_train.shape[1]\n",
    "n_classes = len(np.unique(y_train))\n",
    "n_hidden = 10\n",
    "model = NeuralNet(n_features, n_hidden, n_classes)\n",
    "\n",
    "print(f\"\"\"Evaluation of the untrained model (recall that the weights are initialized as random):\n",
    "    * train loss: {model.loss(X_train, y_train)}\n",
    "    * train accuracy: {model.accuracy(X_train, y_train)}\n",
    "    * test accuracy: {model.accuracy(X_val, y_val)}\n",
    "    \"\"\")"
   ]
  },
  {
   "cell_type": "markdown",
   "metadata": {},
   "source": [
    "As for the Logistic Regression model, the NeuralNet model performs very poorly before the training (because the weights are initialized as random). "
   ]
  },
  {
   "cell_type": "code",
   "execution_count": 34,
   "metadata": {},
   "outputs": [
    {
     "data": {
      "image/png": "[encoded data removed]",
      "text/plain": [
       "<Figure size 1000x400 with 2 Axes>"
      ]
     },
     "metadata": {},
     "output_type": "display_data"
    }
   ],
   "source": [
    "plot_prediction(X_val, y_val, model, sample_idx=42)"
   ]
  },
  {
   "cell_type": "code",
   "execution_count": 39,
   "metadata": {},
   "outputs": [
    {
     "name": "stdout",
     "output_type": "stream",
     "text": [
      "Epoch #1: train loss: 0.3200785126163035, train accuracy: 0.9281792717086835, test accuracy: 0.8988888888888888\n",
      "Epoch #2: train loss: 0.31153703694839024, train accuracy: 0.9296918767507003, test accuracy: 0.9014285714285715\n",
      "Epoch #3: train loss: 0.3119841407304756, train accuracy: 0.9309803921568628, test accuracy: 0.9015873015873016\n",
      "Epoch #4: train loss: 0.30807328024728853, train accuracy: 0.9325210084033614, test accuracy: 0.9012698412698412\n",
      "Epoch #5: train loss: 0.3091614767955129, train accuracy: 0.9315406162464986, test accuracy: 0.902063492063492\n",
      "Epoch #6: train loss: 0.3137025826354531, train accuracy: 0.9311204481792718, test accuracy: 0.9011111111111111\n",
      "Epoch #7: train loss: 0.3170974255051763, train accuracy: 0.9313165266106442, test accuracy: 0.9041269841269841\n",
      "Epoch #8: train loss: 0.32790641246989644, train accuracy: 0.9300560224089636, test accuracy: 0.9011111111111111\n",
      "Epoch #9: train loss: 0.3215671671923243, train accuracy: 0.9323249299719888, test accuracy: 0.9023809523809524\n",
      "Epoch #10: train loss: 0.33075752453375473, train accuracy: 0.9302240896358543, test accuracy: 0.9011111111111111\n",
      "Epoch #11: train loss: 0.32364788954574253, train accuracy: 0.9317927170868348, test accuracy: 0.9014285714285715\n",
      "Epoch #12: train loss: 0.33306099628572766, train accuracy: 0.9297198879551821, test accuracy: 0.9011111111111111\n",
      "Epoch #13: train loss: 0.32222604509873626, train accuracy: 0.9322689075630252, test accuracy: 0.9011111111111111\n",
      "Epoch #14: train loss: 0.3263590147061768, train accuracy: 0.9317927170868348, test accuracy: 0.9052380952380953\n",
      "Epoch #15: train loss: 0.3294872866298573, train accuracy: 0.9319047619047619, test accuracy: 0.9015873015873016\n",
      "Epoch #16: train loss: 0.32555206006218457, train accuracy: 0.9332212885154062, test accuracy: 0.9066666666666666\n",
      "Epoch #17: train loss: 0.32411434468829264, train accuracy: 0.9328851540616246, test accuracy: 0.905079365079365\n",
      "Epoch #18: train loss: 0.3263366325554579, train accuracy: 0.9330812324929972, test accuracy: 0.9019047619047619\n",
      "Epoch #19: train loss: 0.33434611064957775, train accuracy: 0.9320448179271709, test accuracy: 0.9003174603174603\n",
      "Epoch #20: train loss: 0.34324603846593166, train accuracy: 0.9315966386554622, test accuracy: 0.9\n",
      "Epoch #21: train loss: 0.3395771470937226, train accuracy: 0.9325490196078431, test accuracy: 0.9033333333333333\n",
      "Epoch #22: train loss: 0.3326782835537055, train accuracy: 0.9336694677871148, test accuracy: 0.903968253968254\n",
      "Epoch #23: train loss: 0.33623623060903335, train accuracy: 0.9335854341736695, test accuracy: 0.9060317460317461\n",
      "Epoch #24: train loss: 0.3420533358418799, train accuracy: 0.9318767507002801, test accuracy: 0.9036507936507937\n",
      "Epoch #25: train loss: 0.3449272331760749, train accuracy: 0.932016806722689, test accuracy: 0.9036507936507937\n",
      "Epoch #26: train loss: 0.3553662149680149, train accuracy: 0.9319887955182072, test accuracy: 0.9004761904761904\n",
      "Epoch #27: train loss: 0.36297044174692356, train accuracy: 0.9304761904761905, test accuracy: 0.8985714285714286\n",
      "Epoch #28: train loss: 0.3584601796422098, train accuracy: 0.9298319327731093, test accuracy: 0.9001587301587302\n",
      "Epoch #29: train loss: 0.35728356971323383, train accuracy: 0.9335294117647058, test accuracy: 0.9022222222222223\n",
      "Epoch #30: train loss: 0.34940457220735216, train accuracy: 0.9330532212885154, test accuracy: 0.902063492063492\n",
      "Epoch #31: train loss: 0.35450463810710775, train accuracy: 0.932296918767507, test accuracy: 0.9017460317460317\n",
      "Epoch #32: train loss: 0.3605398649660462, train accuracy: 0.9326330532212885, test accuracy: 0.9004761904761904\n",
      "Epoch #33: train loss: 0.3709019111228579, train accuracy: 0.9310364145658263, test accuracy: 0.9007936507936508\n",
      "Epoch #34: train loss: 0.36066317387355035, train accuracy: 0.9320728291316527, test accuracy: 0.9036507936507937\n",
      "Epoch #35: train loss: 0.3612314709527387, train accuracy: 0.9323809523809524, test accuracy: 0.8979365079365079\n",
      "Epoch #36: train loss: 0.3645457083075698, train accuracy: 0.9329131652661065, test accuracy: 0.9007936507936508\n",
      "Epoch #37: train loss: 0.369060059063354, train accuracy: 0.9333613445378152, test accuracy: 0.9026984126984127\n",
      "Epoch #38: train loss: 0.3697683918877657, train accuracy: 0.9317927170868348, test accuracy: 0.9014285714285715\n",
      "Epoch #39: train loss: 0.37626846837885913, train accuracy: 0.9320728291316527, test accuracy: 0.8985714285714286\n",
      "Epoch #40: train loss: 0.3776929651806764, train accuracy: 0.9317086834733893, test accuracy: 0.8987301587301587\n",
      "Epoch #41: train loss: 0.3874563220492718, train accuracy: 0.9315966386554622, test accuracy: 0.903015873015873\n",
      "Epoch #42: train loss: 0.3737240356931152, train accuracy: 0.9320448179271709, test accuracy: 0.9042857142857142\n",
      "Epoch #43: train loss: 0.3785437208810519, train accuracy: 0.9311204481792718, test accuracy: 0.9022222222222223\n",
      "Epoch #44: train loss: 0.38305484749443014, train accuracy: 0.9336694677871148, test accuracy: 0.8992063492063492\n",
      "Epoch #45: train loss: 0.3935785624498021, train accuracy: 0.932296918767507, test accuracy: 0.8960317460317461\n",
      "Epoch #46: train loss: 0.3865661772475286, train accuracy: 0.9326330532212885, test accuracy: 0.8974603174603175\n",
      "Epoch #47: train loss: 0.4002541730527132, train accuracy: 0.932156862745098, test accuracy: 0.8993650793650794\n",
      "Epoch #48: train loss: 0.39383118379922083, train accuracy: 0.9338655462184874, test accuracy: 0.8984126984126984\n",
      "Epoch #49: train loss: 0.3982579206069968, train accuracy: 0.9324369747899159, test accuracy: 0.8995238095238095\n",
      "Epoch #50: train loss: 0.394365849916324, train accuracy: 0.9315966386554622, test accuracy: 0.8961904761904762\n"
     ]
    }
   ],
   "source": [
    "# Train the model for some epochs\n",
    "EPOCHS = 50\n",
    "learning_rate = 0.01\n",
    "\n",
    "losses = [model.loss(X_train, y_train)]\n",
    "accuracies = [model.accuracy(X_train, y_train)]\n",
    "accuracies_val = [model.accuracy(X_val, y_val)]\n",
    "\n",
    "for epoch in range(EPOCHS):\n",
    "    for i, (x, y) in enumerate(zip(X_train, y_train)):\n",
    "        model.train(x, y, learning_rate)\n",
    "    losses.append(model.loss(X_train, y_train))\n",
    "    accuracies.append(model.accuracy(X_train, y_train))\n",
    "    accuracies_val.append(model.accuracy(X_val, y_val))\n",
    "    print(f\"Epoch #{epoch+1}: train loss: {losses[-1]}, train accuracy: {accuracies[-1]}, test accuracy: {accuracies_val[-1]}\")"
   ]
  },
  {
   "cell_type": "code",
   "execution_count": 52,
   "metadata": {},
   "outputs": [
    {
     "data": {
      "image/png": "[encoded data removed]",
      "text/plain": [
       "<Figure size 1000x400 with 2 Axes>"
      ]
     },
     "metadata": {},
     "output_type": "display_data"
    }
   ],
   "source": [
    "plot_prediction(X_val, y_val, model, sample_idx=42)"
   ]
  },
  {
   "cell_type": "code",
   "execution_count": 53,
   "metadata": {},
   "outputs": [
    {
     "data": {
      "image/png": "[encoded data removed]",
      "text/plain": [
       "<Figure size 1000x400 with 2 Axes>"
      ]
     },
     "metadata": {},
     "output_type": "display_data"
    }
   ],
   "source": [
    "# Plot losses and accuracies.\n",
    "fig, (ax0, ax1) = plt.subplots(nrows=1, ncols=2, figsize=(10,4))\n",
    "\n",
    "ax0.plot(losses, label='Train loss')\n",
    "ax0.set_title('AT Model Loss(lr=0.01,nunits=10)')\n",
    "ax0.set_xlabel('Epochs')\n",
    "ax0.legend()\n",
    "\n",
    "ax1.plot(accuracies, label='Train accuracy')\n",
    "ax1.plot(accuracies_val, label='Test accuracy')\n",
    "ax1.set_title('AT Model accuracy(lr=0.01,nunits=10)')\n",
    "ax1.set_ylim(0, 1.1)\n",
    "ax1.set_xlabel('Epochs')\n",
    "ax1.legend(loc='best')\n",
    "\n",
    "plt.show()"
   ]
  },
  {
   "cell_type": "code",
   "execution_count": null,
   "metadata": {},
   "outputs": [],
   "source": [
    "# The loss is the negative log-likelihood for each picture.\n",
    "val_losses = -np.sum(np.log(1e-8 + model.forward(X_val)) * one_hot(10, y_val), axis=1)\n",
    "\n",
    "# We, then, sort them by ascending loss.\n",
    "rank_loss = val_losses.argsort()\n",
    "\n",
    "# Plot the top 5 worst predictions\n",
    "for idx in rank_loss[-5:]:\n",
    "    plot_prediction(X_val, y_val, model, sample_idx=idx)"
   ]
  }
 ],
 "metadata": {
  "kernelspec": {
   "display_name": "Python 3",
   "language": "python",
   "name": "python3"
  },
  "language_info": {
   "codemirror_mode": {
    "name": "ipython",
    "version": 3
   },
   "file_extension": ".py",
   "mimetype": "text/x-python",
   "name": "python",
   "nbconvert_exporter": "python",
   "pygments_lexer": "ipython3",
   "version": "3.11.5"
  }
 },
 "nbformat": 4,
 "nbformat_minor": 4
}
